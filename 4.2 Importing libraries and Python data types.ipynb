{
 "cells": [
  {
   "cell_type": "markdown",
   "id": "2455c20c-a0cd-4564-86d8-bee7db298180",
   "metadata": {},
   "source": [
    "# 01. Importing Libraries"
   ]
  },
  {
   "cell_type": "code",
   "execution_count": 4,
   "id": "ed4aa3ed-9069-4c42-b708-e676b020cd65",
   "metadata": {},
   "outputs": [],
   "source": [
    "# Importing libraries:\n",
    "\n",
    "import pandas as pd\n",
    "import numpy as np\n",
    "import os"
   ]
  },
  {
   "cell_type": "code",
   "execution_count": 8,
   "id": "7b81ffce-a005-4cab-a46a-7cf4dbf9c347",
   "metadata": {},
   "outputs": [
    {
     "data": {
      "text/plain": [
       "2"
      ]
     },
     "execution_count": 8,
     "metadata": {},
     "output_type": "execute_result"
    }
   ],
   "source": [
    "# Data types\n",
    "x = 2\n",
    "x"
   ]
  },
  {
   "cell_type": "code",
   "execution_count": 10,
   "id": "8698a3d4-31ae-4a81-8bf6-872d2074d7f4",
   "metadata": {},
   "outputs": [
    {
     "data": {
      "text/plain": [
       "int"
      ]
     },
     "execution_count": 10,
     "metadata": {},
     "output_type": "execute_result"
    }
   ],
   "source": [
    "type"
   ]
  },
  {
   "cell_type": "code",
   "execution_count": 12,
   "id": "249bc081-3071-492d-9db7-5906c3f0f20d",
   "metadata": {},
   "outputs": [
    {
     "data": {
      "text/plain": [
       "float"
      ]
     },
     "execution_count": 12,
     "metadata": {},
     "output_type": "execute_result"
    }
   ],
   "source": [
    "y = 5.6"
   ]
  },
  {
   "cell_type": "code",
   "execution_count": 16,
   "id": "0e7abf05-51d4-4d03-bb7d-d000c597275a",
   "metadata": {},
   "outputs": [
    {
     "data": {
      "text/plain": [
       "str"
      ]
     },
     "execution_count": 16,
     "metadata": {},
     "output_type": "execute_result"
    }
   ],
   "source": [
    "z = 'Brazil'\n",
    "type("
   ]
  },
  {
   "cell_type": "code",
   "execution_count": 18,
   "id": "f60de867-61fb-449e-8324-323745962571",
   "metadata": {},
   "outputs": [
    {
     "data": {
      "text/plain": [
       "bool"
      ]
     },
     "execution_count": 18,
     "metadata": {},
     "output_type": "execute_result"
    }
   ],
   "source": [
    "type(True)\n",
    "type(False)"
   ]
  },
  {
   "cell_type": "code",
   "execution_count": 24,
   "id": "321ed060-e582-4643-94b9-7309a3a1a6b1",
   "metadata": {},
   "outputs": [
    {
     "name": "stdout",
     "output_type": "stream",
     "text": [
      "100 100 100 10.0 1.99009900990099\n"
     ]
    }
   ],
   "source": [
    "# Code 3 different ways to reach 100\n",
    "# Addition\n",
    "reach100_1 = 50 + 50\n",
    "# multiplication\n",
    "reach100_2 = 50 * 2\n",
    "# Subraction\n",
    "reach100_3 = 120 - 20\n",
    "# Division\n",
    "reach100_4 = 500/50\n",
    "# Floating point variable and division\n",
    "float_test = 50.25/25.25\n",
    "\n",
    "print(reach100_1,reach100_2, reach100_3, reach100_4, float_test) "
   ]
  },
  {
   "cell_type": "code",
   "execution_count": 30,
   "id": "d9a18734-632e-4568-89f6-4f8ae0a84d61",
   "metadata": {},
   "outputs": [
    {
     "name": "stdout",
     "output_type": "stream",
     "text": [
      "MicrosoftExcel\n"
     ]
    }
   ],
   "source": [
    "# String task\n",
    "word_1 = 'Microsoft'\n",
    "word_2 = 'Excel'\n",
    "\n",
    "word = word_1 + word_2\n",
    "\n",
    "print(word)"
   ]
  },
  {
   "cell_type": "code",
   "execution_count": 32,
   "id": "b6e3a260-16b6-4a69-85f1-4456d6218033",
   "metadata": {},
   "outputs": [
    {
     "name": "stdout",
     "output_type": "stream",
     "text": [
      "I like PythonBut, it is complex to learn\n"
     ]
    }
   ],
   "source": [
    "# String task 2\n",
    "string_1 = 'I like Python'\n",
    "string_2 = 'But, it is complex to learn'\n",
    "\n",
    "final_string = string_1 + string_2\n",
    "\n",
    "print(final_string)"
   ]
  },
  {
   "cell_type": "code",
   "execution_count": 38,
   "id": "57b91557-44c4-4a84-ae6d-987ed142cd14",
   "metadata": {},
   "outputs": [
    {
     "name": "stdout",
     "output_type": "stream",
     "text": [
      "appear appear appear appear appear appear appear appear appear appear appear appear appear appear appear appear appear appear appear appear appear appear appear appear appear appear appear appear appear appear appear appear appear appear appear appear appear appear appear appear appear appear appear appear appear appear appear appear appear appear appear appear appear appear appear appear appear appear appear appear appear appear appear appear appear appear appear appear appear appear appear appear appear appear appear appear appear appear appear appear appear appear appear appear appear appear appear appear appear appear appear appear appear appear appear appear appear appear appear appear appear appear appear appear appear appear appear appear appear appear appear appear appear appear appear appear appear appear appear appear appear appear appear appear appear appear appear appear appear appear appear appear appear appear appear appear appear appear appear appear appear appear appear appear appear appear appear appear appear appear appear appear appear appear appear appear appear appear appear appear appear appear appear appear appear appear appear appear appear appear appear appear appear appear appear appear appear appear appear appear appear appear appear appear appear appear appear appear appear appear appear appear appear appear appear appear appear appear appear appear appear appear appear appear appear appear appear appear appear appear appear appear appear appear appear appear appear appear appear appear appear appear appear appear appear appear appear appear appear appear appear appear appear appear appear appear appear appear appear appear appear appear appear appear appear appear appear appear appear appear appear appear appear appear appear appear appear appear appear appear appear appear appear appear appear appear appear appear appear appear appear appear appear appear appear appear appear appear appear appear appear appear appear appear appear appear appear appear appear appear appear appear appear appear appear appear appear appear appear appear appear appear appear appear appear appear appear appear appear appear appear appear appear appear appear appear appear appear appear appear appear appear appear appear appear appear appear appear appear appear appear appear appear appear appear appear appear appear appear appear appear appear appear appear appear appear appear appear appear appear appear appear appear appear appear appear appear appear appear appear appear appear appear appear appear appear appear appear appear appear appear appear appear appear appear appear appear appear appear appear appear appear appear appear appear appear appear appear appear appear appear appear appear appear appear appear appear appear appear appear appear appear appear appear appear appear appear appear appear appear appear appear appear appear appear appear appear appear appear appear appear appear appear appear appear appear appear appear appear appear appear appear appear appear appear appear appear appear appear appear appear appear appear appear appear appear appear appear appear appear appear appear appear appear appear appear appear appear appear appear appear appear appear appear appear appear appear appear appear appear appear appear appear appear appear appear appear appear appear appear appear appear appear appear appear appear appear appear appear appear appear appear appear appear appear appear appear appear appear appear appear appear appear appear appear appear appear appear appear appear appear appear appear appear appear appear appear appear appear appear appear appear appear appear appear appear appear appear appear appear appear appear appear appear appear appear appear appear appear appear appear appear appear appear appear appear appear appear appear appear appear appear appear appear appear appear appear appear appear appear appear appear appear appear appear appear appear appear appear appear appear appear appear appear appear appear appear appear appear appear appear appear appear appear appear appear appear appear appear appear appear appear appear appear appear appear appear appear appear appear appear appear appear appear appear appear appear appear appear appear appear appear appear appear appear appear appear appear appear appear appear appear appear appear appear appear appear appear appear appear appear appear appear appear appear appear appear appear appear appear appear appear appear appear appear appear appear appear appear appear appear appear appear appear appear appear appear appear appear appear appear appear appear appear appear appear appear appear appear appear appear appear appear appear appear appear appear appear appear appear appear appear appear appear appear appear appear appear appear appear appear appear appear appear appear appear appear appear appear appear appear appear appear appear appear appear appear appear appear appear appear appear appear appear appear appear appear appear appear appear appear appear appear appear appear appear appear appear appear appear appear appear appear appear appear appear appear appear appear appear appear appear appear appear appear appear appear appear appear appear appear appear appear appear appear appear appear appear appear appear appear appear appear appear appear appear appear appear appear appear appear appear appear appear appear appear appear appear appear appear appear appear appear appear appear appear appear appear appear appear appear appear appear appear appear appear appear appear appear appear appear appear appear appear appear appear appear appear appear appear appear appear appear appear appear appear appear appear appear appear appear appear appear appear appear appear appear appear appear appear appear appear appear appear appear appear appear appear appear appear appear appear appear appear appear appear appear appear appear appear appear appear appear appear appear appear appear appear appear appear appear appear appear appear appear appear appear appear appear appear appear appear appear appear appear appear appear appear appear appear appear appear appear appear appear appear appear appear appear appear appear appear appear appear appear appear appear appear appear appear appear appear appear appear appear appear appear appear appear appear appear appear appear appear appear appear appear appear appear appear appear appear appear appear appear appear appear appear appear appear appear appear appear appear appear appear appear appear appear appear appear appear appear appear appear appear appear appear appear appear appear appear appear appear appear appear appear appear appear appear appear appear appear appear appear appear appear appear appear appear appear appear appear appear appear appear appear appear appear appear appear appear appear appear appear appear appear appear appear appear appear appear appear appear appear appear appear appear appear appear \n"
     ]
    }
   ],
   "source": [
    "# Bonus task\n",
    "\n",
    "test_string = 'appear '\n",
    "\n",
    "print(test_string * 1000)"
   ]
  },
  {
   "cell_type": "code",
   "execution_count": null,
   "id": "0baa37c4-57fb-410e-80d4-75a0bdc3fc38",
   "metadata": {},
   "outputs": [],
   "source": []
  }
 ],
 "metadata": {
  "kernelspec": {
   "display_name": "Python [conda env:base] *",
   "language": "python",
   "name": "conda-base-py"
  },
  "language_info": {
   "codemirror_mode": {
    "name": "ipython",
    "version": 3
   },
   "file_extension": ".py",
   "mimetype": "text/x-python",
   "name": "python",
   "nbconvert_exporter": "python",
   "pygments_lexer": "ipython3",
   "version": "3.12.4"
  }
 },
 "nbformat": 4,
 "nbformat_minor": 5
}
