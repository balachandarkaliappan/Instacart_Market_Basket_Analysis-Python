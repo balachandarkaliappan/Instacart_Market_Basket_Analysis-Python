{
 "cells": [
  {
   "cell_type": "markdown",
   "id": "b0d0c9f1-c53f-43ed-b916-fb76c85e5b6c",
   "metadata": {},
   "source": [
    "# Exercise 4.7: Deriving New Variables"
   ]
  },
  {
   "cell_type": "markdown",
   "id": "e861c5d0-2d3e-4eef-b7c8-289388f75e97",
   "metadata": {},
   "source": [
    "### Tasks within the lesson"
   ]
  },
  {
   "cell_type": "code",
   "execution_count": 245,
   "id": "b6174503-c697-468b-a2d3-ffb56df17317",
   "metadata": {},
   "outputs": [],
   "source": [
    "## Importing required packages\n",
    "\n",
    "import pandas as pd\n",
    "import numpy as np\n",
    "import os "
   ]
  },
  {
   "cell_type": "code",
   "execution_count": 246,
   "id": "3087ff5a-4d05-4c2f-8a73-c40ac2473cf2",
   "metadata": {},
   "outputs": [],
   "source": [
    "## Importing the data files\n",
    "\n",
    "path = r'/Users/balachandark/Desktop/Instacart Basket Analysis/02 Data'\n",
    "\n",
    "ords_prods_merge = pd.read_pickle(os.path.join(path, 'Prepared Data', 'ords_prods_merged.pkl'))\n",
    "\n",
    "ords_prods_merge = ords_prods_merge.drop(['_merge', 'match'], axis = 1)\n"
   ]
  },
  {
   "cell_type": "code",
   "execution_count": 247,
   "id": "28511e12-ff3b-489b-b9ee-bdc0f5c87769",
   "metadata": {},
   "outputs": [
    {
     "data": {
      "text/plain": [
       "(1000000, 14)"
      ]
     },
     "execution_count": 247,
     "metadata": {},
     "output_type": "execute_result"
    }
   ],
   "source": [
    "## Creating a subset of ords_prods_merge\n",
    "\n",
    "df = ords_prods_merge[:1000000]\n",
    "\n",
    "df.shape"
   ]
  },
  {
   "cell_type": "code",
   "execution_count": 248,
   "id": "53efb177-300e-4b9b-b2c4-4cf49c6955df",
   "metadata": {},
   "outputs": [],
   "source": [
    "## Defining a function\n",
    "\n",
    "def price_label(row):\n",
    "    if row['prices'] <= 5:\n",
    "        return 'Low-range product'\n",
    "    elif (row['prices'] > 5) and (row['prices'] <= 15):\n",
    "        return 'Mid-range product'\n",
    "    elif row['prices'] > 15:\n",
    "        return 'High range'\n",
    "    else: return 'Not enough data'"
   ]
  },
  {
   "cell_type": "code",
   "execution_count": 249,
   "id": "50e2ac99-5660-4943-8816-399746de9e15",
   "metadata": {},
   "outputs": [],
   "source": [
    "## Using the price_label function\n",
    "df = df.copy()\n",
    "df['price_range'] = df.apply(price_label, axis=1)"
   ]
  },
  {
   "cell_type": "code",
   "execution_count": 250,
   "id": "943e687b-be85-4856-8367-35c77eff4c55",
   "metadata": {},
   "outputs": [
    {
     "data": {
      "text/plain": [
       "99999.0"
      ]
     },
     "execution_count": 250,
     "metadata": {},
     "output_type": "execute_result"
    }
   ],
   "source": [
    "df['prices'].max()"
   ]
  },
  {
   "cell_type": "code",
   "execution_count": 251,
   "id": "a4c3f8ec-e467-45b7-9573-0beeacf382f1",
   "metadata": {},
   "outputs": [],
   "source": [
    "## Using .loc method\n",
    "\n",
    "df.loc[df['prices'] > 15, 'price_range_loc'] = 'High-range product'\n",
    "df.loc[(df['prices'] <= 15) & (df['prices'] > 5), 'price_range_loc'] = 'Mid-range product' \n",
    "df.loc[df['prices'] <= 5, 'price_range_loc'] = 'Low-range product'"
   ]
  },
  {
   "cell_type": "code",
   "execution_count": 252,
   "id": "d387e928-87b3-439e-99b3-b6bd83c325fa",
   "metadata": {},
   "outputs": [
    {
     "name": "stdout",
     "output_type": "stream",
     "text": [
      "My age is 30\n",
      "My age is 31\n",
      "My age is 32\n",
      "My age is 33\n",
      "My age is 34\n",
      "My age is 35\n",
      "My age is 36\n",
      "My age is 37\n",
      "My age is 38\n",
      "My age is 39\n",
      "My age is 40\n",
      "My age is 41\n",
      "My age is 42\n",
      "My age is 43\n",
      "My age is 44\n"
     ]
    }
   ],
   "source": [
    "## Printing age using for loop\n",
    "\n",
    "for x in range(30,45):\n",
    "    print(\"My age is %d\" % (x))"
   ]
  },
  {
   "cell_type": "code",
   "execution_count": 253,
   "id": "7a9bf88a-1599-432e-ad10-40caf5abc0a8",
   "metadata": {},
   "outputs": [
    {
     "data": {
      "text/plain": [
       "orders_day_of_week\n",
       "0    6204182\n",
       "1    5660230\n",
       "6    4496490\n",
       "2    4213830\n",
       "5    4205791\n",
       "3    3840534\n",
       "4    3783802\n",
       "Name: count, dtype: int64"
      ]
     },
     "execution_count": 253,
     "metadata": {},
     "output_type": "execute_result"
    }
   ],
   "source": [
    "## Which day most orders take place\n",
    "\n",
    "ords_prods_merge['orders_day_of_week'].value_counts(dropna = False)"
   ]
  },
  {
   "cell_type": "code",
   "execution_count": 254,
   "id": "1210a2c1-5e29-45c9-82c2-2c16d82b3806",
   "metadata": {},
   "outputs": [],
   "source": [
    "## Using for loop on orders and products data frame\n",
    "\n",
    "result = []\n",
    "\n",
    "for value in ords_prods_merge[\"orders_day_of_week\"]:\n",
    "  if value == 0:\n",
    "    result.append(\"Busiest day\")\n",
    "  elif value == 4:\n",
    "    result.append(\"Least busy\")\n",
    "  else:\n",
    "    result.append(\"Regularly busy\")\n"
   ]
  },
  {
   "cell_type": "code",
   "execution_count": 255,
   "id": "8f17a105-deeb-476b-80a9-722066e0f949",
   "metadata": {},
   "outputs": [
    {
     "data": {
      "text/plain": [
       "busiest_day\n",
       "Regularly busy    22416875\n",
       "Busiest day        6204182\n",
       "Least busy         3783802\n",
       "Name: count, dtype: int64"
      ]
     },
     "execution_count": 255,
     "metadata": {},
     "output_type": "execute_result"
    }
   ],
   "source": [
    "#print(result)\n",
    "\n",
    "ords_prods_merge['busiest_day'] = result\n",
    "\n",
    "ords_prods_merge['busiest_day'].value_counts(dropna = False)"
   ]
  },
  {
   "cell_type": "code",
   "execution_count": 256,
   "id": "4343d643-8284-4b40-b0c8-1bdfb1a99b0d",
   "metadata": {},
   "outputs": [
    {
     "data": {
      "text/plain": [
       "Index(['order_id', 'user_id', 'evaluation_set', 'order_number',\n",
       "       'orders_day_of_week', 'order_hour_of_day', 'days_since_prior_order',\n",
       "       'product_id', 'add_to_cart_order', 'reordered', 'product_name',\n",
       "       'aisle_id', 'department_id', 'prices', 'busiest_day'],\n",
       "      dtype='object')"
      ]
     },
     "execution_count": 256,
     "metadata": {},
     "output_type": "execute_result"
    }
   ],
   "source": [
    "## Checking the columns\n",
    "\n",
    "ords_prods_merge.columns"
   ]
  },
  {
   "cell_type": "markdown",
   "id": "954ec52c-be84-4759-b3b6-857c85d962d7",
   "metadata": {},
   "source": [
    "### Task Exercise 4.7"
   ]
  },
  {
   "cell_type": "markdown",
   "id": "d3ad6bfb-0656-410b-8782-97b1e303de24",
   "metadata": {},
   "source": [
    "#### Task 4.7.2"
   ]
  },
  {
   "cell_type": "code",
   "execution_count": 259,
   "id": "66d141b2-ce81-4380-a211-a989656840c9",
   "metadata": {},
   "outputs": [],
   "source": [
    "## Create a new column to suit clients requirements\n",
    "\n",
    "results = []\n",
    "\n",
    "for value in ords_prods_merge[\"orders_day_of_week\"]:\n",
    "    if (value == 0) or (value == 1):\n",
    "        results.append(\"Busiest days\")\n",
    "    elif (value == 3) or (value == 4): \n",
    "        results.append(\"Least busy days\")\n",
    "    else:\n",
    "        results.append(\"Regularly busy\")"
   ]
  },
  {
   "cell_type": "code",
   "execution_count": 260,
   "id": "b2d17ec8-8c47-4cb3-a704-32cf697326a6",
   "metadata": {},
   "outputs": [
    {
     "data": {
      "text/plain": [
       "busiest_day\n",
       "Regularly busy     12916111\n",
       "Busiest days       11864412\n",
       "Least busy days     7624336\n",
       "Name: count, dtype: int64"
      ]
     },
     "execution_count": 260,
     "metadata": {},
     "output_type": "execute_result"
    }
   ],
   "source": [
    "ords_prods_merge['busiest_day'] = results\n",
    "\n",
    "ords_prods_merge['busiest_day'].value_counts(dropna = False)"
   ]
  },
  {
   "cell_type": "markdown",
   "id": "0600a9b7-ad16-4322-871d-71b6237bf479",
   "metadata": {},
   "source": [
    "##### As expected the total number of regularly busy days went down. The reason for change in the value is due to inclusion of value 1 to busiest days and value 3 to the least busy days. "
   ]
  },
  {
   "cell_type": "markdown",
   "id": "a2e016de-2e6d-45c1-b122-42eafbabcb20",
   "metadata": {},
   "source": [
    "#### Task 4.7.4"
   ]
  },
  {
   "cell_type": "code",
   "execution_count": 263,
   "id": "9b9b7d57-63a0-49fb-ac60-e993e0c1e1d9",
   "metadata": {},
   "outputs": [
    {
     "data": {
      "text/plain": [
       "order_hour_of_day\n",
       "10    2761760\n",
       "11    2736140\n",
       "14    2689136\n",
       "15    2662144\n",
       "13    2660954\n",
       "12    2618532\n",
       "16    2535202\n",
       "9     2454203\n",
       "17    2087654\n",
       "8     1718118\n",
       "18    1636502\n",
       "19    1258305\n",
       "20     976156\n",
       "7      891054\n",
       "21     795637\n",
       "22     634225\n",
       "23     402316\n",
       "6      290493\n",
       "0      218769\n",
       "1      115700\n",
       "5       87961\n",
       "2       69375\n",
       "4       53242\n",
       "3       51281\n",
       "Name: count, dtype: int64"
      ]
     },
     "execution_count": 263,
     "metadata": {},
     "output_type": "execute_result"
    }
   ],
   "source": [
    "## Assessing the orders column\n",
    "\n",
    "ords_prods_merge['order_hour_of_day'].value_counts()"
   ]
  },
  {
   "cell_type": "code",
   "execution_count": 264,
   "id": "46168098-716c-4b64-ad8d-778fee7f6ccd",
   "metadata": {},
   "outputs": [],
   "source": [
    "## Creating periods of time \n",
    "## Hours 10,11,12,13,14,15,16 will be called as Most orders\n",
    "## Hours 0,1,2,3,4,5,6 will be called as Fewest orders\n",
    "## Rest of the hours will be called as Average orders\n",
    "\n",
    "hours = []\n",
    "\n",
    "for value in ords_prods_merge['order_hour_of_day']:\n",
    "    if (value >=10) and (value <= 16):\n",
    "        hours.append('Most orders')\n",
    "    elif (value >=0) and (value <= 6):\n",
    "        hours.append('Fewest orders')\n",
    "    else: \n",
    "        hours.append('Average orders')"
   ]
  },
  {
   "cell_type": "code",
   "execution_count": 265,
   "id": "7526a47f-9ec6-4da2-823c-dfe866fb3dbb",
   "metadata": {},
   "outputs": [
    {
     "data": {
      "text/plain": [
       "busiest_period_of_day\n",
       "Most orders       18663868\n",
       "Average orders    12854170\n",
       "Fewest orders       886821\n",
       "Name: count, dtype: int64"
      ]
     },
     "execution_count": 265,
     "metadata": {},
     "output_type": "execute_result"
    }
   ],
   "source": [
    "ords_prods_merge['busiest_period_of_day'] = hours\n",
    "\n",
    "ords_prods_merge['busiest_period_of_day'].value_counts(dropna = False)"
   ]
  },
  {
   "cell_type": "markdown",
   "id": "7d39decd-e6b9-4593-a5de-4b15995f3ee1",
   "metadata": {},
   "source": [
    "#### Task 4.7.8"
   ]
  },
  {
   "cell_type": "code",
   "execution_count": 273,
   "id": "a28ccf07-b8c1-4ca5-a034-c554ff3587d1",
   "metadata": {},
   "outputs": [],
   "source": [
    "ords_prods_merge.to_pickle(os.path.join(path, 'Prepared Data', 'ords_prods_merged.pkl'))"
   ]
  },
  {
   "cell_type": "markdown",
   "id": "04bb5f5b-53ee-4368-9b8e-a1f840118f45",
   "metadata": {},
   "source": [
    "<center><b> End of report </b></center>"
   ]
  },
  {
   "cell_type": "code",
   "execution_count": null,
   "id": "c1d93d83-a0e7-4317-acb2-47a3baa3bf7f",
   "metadata": {},
   "outputs": [],
   "source": []
  }
 ],
 "metadata": {
  "kernelspec": {
   "display_name": "Python [conda env:base] *",
   "language": "python",
   "name": "conda-base-py"
  },
  "language_info": {
   "codemirror_mode": {
    "name": "ipython",
    "version": 3
   },
   "file_extension": ".py",
   "mimetype": "text/x-python",
   "name": "python",
   "nbconvert_exporter": "python",
   "pygments_lexer": "ipython3",
   "version": "3.12.4"
  }
 },
 "nbformat": 4,
 "nbformat_minor": 5
}
